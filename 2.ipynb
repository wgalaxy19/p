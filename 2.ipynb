{
 "cells": [
  {
   "cell_type": "code",
   "execution_count": 8,
   "metadata": {},
   "outputs": [
    {
     "name": "stdout",
     "output_type": "stream",
     "text": [
      "a = [[ 1  2  3  4]\n",
      " [ 5  6  7  8]\n",
      " [ 9 10 11 12]\n",
      " [13 14 15 16]]\n",
      "N4: [15, 7, 12, 10]\n",
      "Nd: [16, 14, 8, 6]\n",
      "\n",
      "Neighbours of N8:  [15, 7, 12, 10, 16, 14, 8, 6]\n"
     ]
    }
   ],
   "source": [
    "import numpy as np\n",
    "\n",
    "a=np.array([[1,2,3,4],\n",
    "           [5,6,7,8],\n",
    "           [9,10,11,12],\n",
    "           [13,14,15,16]])\n",
    "print(\"a =\",a)\n",
    "\n",
    "b = int(input(\"Enter no of rows:\"))\n",
    "c = int(input(\"Enter no of columns:\"))\n",
    "\n",
    "N4 = []\n",
    "\n",
    "if b+1 < 5:\n",
    "    N4.append(a[b+1,c])\n",
    "if b-1 >=0:\n",
    "    N4.append(a[b-1,c])\n",
    "if c+1 <5:\n",
    "    N4.append(a[b,c+1])    \n",
    "if c-1 >= 0:\n",
    "    N4.append(a[b,c-1])\n",
    "\n",
    "print(\"N4:\",N4)\n",
    "\n",
    "Nd=[]\n",
    "\n",
    "if b+1 <5 and c+1<5:\n",
    "    Nd.append(a[b+1,c+1])\n",
    "if b+1 <5 and c-1 >=0:\n",
    "    Nd.append(a[b+1,c-1])\n",
    "if b-1 >=0 and c+1 <5:\n",
    "    Nd.append(a[b-1,c+1])\n",
    "if b-1 >=0 and c-1 >=0:\n",
    "    Nd.append(a[b-1,c-1])\n",
    "\n",
    "print(\"Nd:\",Nd)\n",
    "N8=[]\n",
    "if b+1<5:\n",
    "    N8.append(a[b+1,c])\n",
    "if b-1>=0:\n",
    "    N8.append(a[b-1,c])\n",
    "if c+1<5:\n",
    "    N8.append(a[b,c+1])\n",
    "if c-1>=0:\n",
    "    N8.append(a[b,c-1])\n",
    "if b+1<5 and c+1<5:\n",
    "    N8.append(a[b+1,c+1])\n",
    "if b+1<5 and c-1>=0:\n",
    "    N8.append(a[b+1,c-1])\n",
    "if b-1>=0 and c+1<5:\n",
    "    N8.append(a[b-1,c+1])\n",
    "if b-1>=0 and c-1>=0:\n",
    "    N8.append(a[b-1,c-1])\n",
    "print(\"\\nNeighbours of N8: \",N8)\n",
    "\n",
    "\n"
   ]
  }
 ],
 "metadata": {
  "kernelspec": {
   "display_name": "Python 3",
   "language": "python",
   "name": "python3"
  },
  "language_info": {
   "codemirror_mode": {
    "name": "ipython",
    "version": 3
   },
   "file_extension": ".py",
   "mimetype": "text/x-python",
   "name": "python",
   "nbconvert_exporter": "python",
   "pygments_lexer": "ipython3",
   "version": "3.8.10"
  },
  "orig_nbformat": 4
 },
 "nbformat": 4,
 "nbformat_minor": 2
}
